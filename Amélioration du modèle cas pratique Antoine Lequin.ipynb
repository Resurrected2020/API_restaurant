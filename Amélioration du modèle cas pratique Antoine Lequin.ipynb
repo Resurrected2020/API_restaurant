{
 "cells": [
  {
   "cell_type": "markdown",
   "metadata": {},
   "source": [
    "# Importation du modèle dans le notebook et analyse de celui-ci "
   ]
  },
  {
   "cell_type": "code",
   "execution_count": 1,
   "metadata": {},
   "outputs": [],
   "source": [
    "import joblib\n",
    "import pandas as pd \n",
    "from sklearn.model_selection import train_test_split \n",
    "from sklearn.metrics import roc_auc_score, f1_score,classification_report\n",
    "from sklearn.model_selection import train_test_split \n",
    "from sklearn.model_selection import GridSearchCV\n",
    "from sklearn.pipeline import Pipeline\n",
    "from sklearn.feature_extraction.text import TfidfVectorizer\n",
    "from sklearn.svm import SVC\n",
    "from joblib import dump"
   ]
  },
  {
   "cell_type": "code",
   "execution_count": 2,
   "metadata": {},
   "outputs": [
    {
     "output_type": "execute_result",
     "data": {
      "text/plain": [
       "Pipeline(steps=[('tfidf', TfidfVectorizer()),\n",
       "                ('clf', SVC(C=1000, gamma=0.001))])"
      ]
     },
     "metadata": {},
     "execution_count": 2
    }
   ],
   "source": [
    "\"\"\" Import de la pipeline utilisée dans l'API et du jeu de données contenant les commentaites. Affichage de la\n",
    "pipeline pour étudier son contenu\"\"\"\n",
    "\n",
    "modele=joblib.load(\"sentiment_pipe.joblib\")\n",
    "df=pd.read_csv(\"comments_train.csv\")\n",
    "modele"
   ]
  },
  {
   "cell_type": "code",
   "execution_count": 3,
   "metadata": {},
   "outputs": [
    {
     "output_type": "execute_result",
     "data": {
      "text/plain": [
       "Positive    1019\n",
       "Negative     598\n",
       "Name: sentiment, dtype: int64"
      ]
     },
     "metadata": {},
     "execution_count": 3
    }
   ],
   "source": [
    "\"\"\" Affichage des occurences de la colonne sentiment indiquant les classements des commentaires. Cet affichage \n",
    "permet de voir que le dataset est déséquilibré.\"\"\"\n",
    "\n",
    "X=df[\"comment\"]\n",
    "y=df[\"sentiment\"]\n",
    "df[\"sentiment\"].value_counts()"
   ]
  },
  {
   "cell_type": "code",
   "execution_count": 4,
   "metadata": {},
   "outputs": [
    {
     "output_type": "stream",
     "name": "stdout",
     "text": [
      "AUC : 0.7220142706749327\n \n              precision    recall  f1-score   support\n\n           0       0.26      0.76      0.39       206\n           1       0.95      0.69      0.80      1411\n\n    accuracy                           0.70      1617\n   macro avg       0.61      0.72      0.59      1617\nweighted avg       0.86      0.70      0.75      1617\n\n"
     ]
    }
   ],
   "source": [
    "\"\"\" Ici, on place dans deux variables X et y les colonnes du dataset. On remplace les valeurs de la colonne \n",
    "sentiment par des valeurs numériques pour permette une interprétation plus facile des résultats. On affiche \n",
    "ensuite les indicateurs de performance retenus pour l'étude des prédictions de la pipeline, en prenant en\n",
    "compte que le dataset est déséquilibré : l'AUC et les métriques recall, precision et f1-score. \"\"\"\n",
    "\n",
    "\n",
    "\n",
    "X=df[\"comment\"]\n",
    "y_pred=modele.predict(X)\n",
    "y=df[\"sentiment\"].replace({\"Positive\":1,\"Negative\":0}).values\n",
    "resume=classification_report(y_pred,y)\n",
    "roc_score=roc_auc_score(y_pred,y)\n",
    "print(\"AUC : {}\".format(roc_score))\n",
    "print(\" \")\n",
    "print(resume)\n"
   ]
  },
  {
   "cell_type": "code",
   "execution_count": 5,
   "metadata": {},
   "outputs": [
    {
     "output_type": "stream",
     "name": "stdout",
     "text": [
      "              precision    recall  f1-score   support\n\n           0       0.85      0.74      0.79       202\n           1       0.85      0.92      0.89       332\n\n    accuracy                           0.85       534\n   macro avg       0.85      0.83      0.84       534\nweighted avg       0.85      0.85      0.85       534\n\nAUC :  0.9279046880591674\n"
     ]
    }
   ],
   "source": [
    "\"\"\"Réentrainement du modèle à partir du dataset. On constate une amélioration nette des résultats, notamment sur les\n",
    "prédictions négatifs (marquées en 0) et l'AUC.\"\"\"\n",
    "\n",
    "\n",
    "X_train, X_test, y_train, y_test = train_test_split(X, y, test_size=0.33, random_state=42)\n",
    "modele.fit(X_train,y_train)\n",
    "y_pred=modele.predict(X_test)\n",
    "print(classification_report(y_test, y_pred,zero_division=1))\n",
    "y_pred2=modele.decision_function(X_test)\n",
    "roc_score=roc_auc_score(y_test,y_pred2)\n",
    "print(\"AUC : \",roc_score)"
   ]
  },
  {
   "cell_type": "code",
   "execution_count": 6,
   "metadata": {},
   "outputs": [
    {
     "output_type": "execute_result",
     "data": {
      "text/plain": [
       "{'memory': None,\n",
       " 'steps': [('tfidf', TfidfVectorizer()), ('clf', SVC(C=1000, gamma=0.001))],\n",
       " 'verbose': False,\n",
       " 'tfidf': TfidfVectorizer(),\n",
       " 'clf': SVC(C=1000, gamma=0.001),\n",
       " 'tfidf__analyzer': 'word',\n",
       " 'tfidf__binary': False,\n",
       " 'tfidf__decode_error': 'strict',\n",
       " 'tfidf__dtype': numpy.float64,\n",
       " 'tfidf__encoding': 'utf-8',\n",
       " 'tfidf__input': 'content',\n",
       " 'tfidf__lowercase': True,\n",
       " 'tfidf__max_df': 1.0,\n",
       " 'tfidf__max_features': None,\n",
       " 'tfidf__min_df': 1,\n",
       " 'tfidf__ngram_range': (1, 1),\n",
       " 'tfidf__norm': 'l2',\n",
       " 'tfidf__preprocessor': None,\n",
       " 'tfidf__smooth_idf': True,\n",
       " 'tfidf__stop_words': None,\n",
       " 'tfidf__strip_accents': None,\n",
       " 'tfidf__sublinear_tf': False,\n",
       " 'tfidf__token_pattern': '(?u)\\\\b\\\\w\\\\w+\\\\b',\n",
       " 'tfidf__tokenizer': None,\n",
       " 'tfidf__use_idf': True,\n",
       " 'tfidf__vocabulary': None,\n",
       " 'clf__C': 1000,\n",
       " 'clf__break_ties': False,\n",
       " 'clf__cache_size': 200,\n",
       " 'clf__class_weight': None,\n",
       " 'clf__coef0': 0.0,\n",
       " 'clf__decision_function_shape': 'ovr',\n",
       " 'clf__degree': 3,\n",
       " 'clf__gamma': 0.001,\n",
       " 'clf__kernel': 'rbf',\n",
       " 'clf__max_iter': -1,\n",
       " 'clf__probability': False,\n",
       " 'clf__random_state': None,\n",
       " 'clf__shrinking': True,\n",
       " 'clf__tol': 0.001,\n",
       " 'clf__verbose': False}"
      ]
     },
     "metadata": {},
     "execution_count": 6
    }
   ],
   "source": [
    "# Afin de permettre l'amélioration de la pipeline, on affiche ses paramètres. \n",
    "\n",
    "modele.get_params()"
   ]
  },
  {
   "cell_type": "code",
   "execution_count": 7,
   "metadata": {
    "scrolled": true
   },
   "outputs": [
    {
     "output_type": "stream",
     "name": "stdout",
     "text": [
      "Fitting 5 folds for each of 27 candidates, totalling 135 fits\n",
      "[CV 1/5] END clf__C=1000, clf__gamma=0.001, clf__kernel=sigmoid, clf__random_state=42; total time=   0.2s\n",
      "[CV 2/5] END clf__C=1000, clf__gamma=0.001, clf__kernel=sigmoid, clf__random_state=42; total time=   0.2s\n",
      "[CV 3/5] END clf__C=1000, clf__gamma=0.001, clf__kernel=sigmoid, clf__random_state=42; total time=   0.2s\n",
      "[CV 4/5] END clf__C=1000, clf__gamma=0.001, clf__kernel=sigmoid, clf__random_state=42; total time=   0.2s\n",
      "[CV 5/5] END clf__C=1000, clf__gamma=0.001, clf__kernel=sigmoid, clf__random_state=42; total time=   0.2s\n",
      "[CV 1/5] END clf__C=1000, clf__gamma=0.001, clf__kernel=rbf, clf__random_state=42; total time=   0.2s\n",
      "[CV 2/5] END clf__C=1000, clf__gamma=0.001, clf__kernel=rbf, clf__random_state=42; total time=   0.3s\n",
      "[CV 3/5] END clf__C=1000, clf__gamma=0.001, clf__kernel=rbf, clf__random_state=42; total time=   0.2s\n",
      "[CV 4/5] END clf__C=1000, clf__gamma=0.001, clf__kernel=rbf, clf__random_state=42; total time=   0.3s\n",
      "[CV 5/5] END clf__C=1000, clf__gamma=0.001, clf__kernel=rbf, clf__random_state=42; total time=   0.3s\n",
      "[CV 1/5] END clf__C=1000, clf__gamma=0.001, clf__kernel=poly, clf__random_state=42; total time=   0.2s\n",
      "[CV 2/5] END clf__C=1000, clf__gamma=0.001, clf__kernel=poly, clf__random_state=42; total time=   0.2s\n",
      "[CV 3/5] END clf__C=1000, clf__gamma=0.001, clf__kernel=poly, clf__random_state=42; total time=   0.2s\n",
      "[CV 4/5] END clf__C=1000, clf__gamma=0.001, clf__kernel=poly, clf__random_state=42; total time=   0.2s\n",
      "[CV 5/5] END clf__C=1000, clf__gamma=0.001, clf__kernel=poly, clf__random_state=42; total time=   0.2s\n",
      "[CV 1/5] END clf__C=1000, clf__gamma=0.01, clf__kernel=sigmoid, clf__random_state=42; total time=   0.2s\n",
      "[CV 2/5] END clf__C=1000, clf__gamma=0.01, clf__kernel=sigmoid, clf__random_state=42; total time=   0.3s\n",
      "[CV 3/5] END clf__C=1000, clf__gamma=0.01, clf__kernel=sigmoid, clf__random_state=42; total time=   0.2s\n",
      "[CV 4/5] END clf__C=1000, clf__gamma=0.01, clf__kernel=sigmoid, clf__random_state=42; total time=   0.2s\n",
      "[CV 5/5] END clf__C=1000, clf__gamma=0.01, clf__kernel=sigmoid, clf__random_state=42; total time=   0.2s\n",
      "[CV 1/5] END clf__C=1000, clf__gamma=0.01, clf__kernel=rbf, clf__random_state=42; total time=   0.2s\n",
      "[CV 2/5] END clf__C=1000, clf__gamma=0.01, clf__kernel=rbf, clf__random_state=42; total time=   0.2s\n",
      "[CV 3/5] END clf__C=1000, clf__gamma=0.01, clf__kernel=rbf, clf__random_state=42; total time=   0.2s\n",
      "[CV 4/5] END clf__C=1000, clf__gamma=0.01, clf__kernel=rbf, clf__random_state=42; total time=   0.2s\n",
      "[CV 5/5] END clf__C=1000, clf__gamma=0.01, clf__kernel=rbf, clf__random_state=42; total time=   0.2s\n",
      "[CV 1/5] END clf__C=1000, clf__gamma=0.01, clf__kernel=poly, clf__random_state=42; total time=   0.2s\n",
      "[CV 2/5] END clf__C=1000, clf__gamma=0.01, clf__kernel=poly, clf__random_state=42; total time=   0.2s\n",
      "[CV 3/5] END clf__C=1000, clf__gamma=0.01, clf__kernel=poly, clf__random_state=42; total time=   0.2s\n",
      "[CV 4/5] END clf__C=1000, clf__gamma=0.01, clf__kernel=poly, clf__random_state=42; total time=   0.3s\n",
      "[CV 5/5] END clf__C=1000, clf__gamma=0.01, clf__kernel=poly, clf__random_state=42; total time=   0.2s\n",
      "[CV 1/5] END clf__C=1000, clf__gamma=0.1, clf__kernel=sigmoid, clf__random_state=42; total time=   0.2s\n",
      "[CV 2/5] END clf__C=1000, clf__gamma=0.1, clf__kernel=sigmoid, clf__random_state=42; total time=   0.2s\n",
      "[CV 3/5] END clf__C=1000, clf__gamma=0.1, clf__kernel=sigmoid, clf__random_state=42; total time=   0.2s\n",
      "[CV 4/5] END clf__C=1000, clf__gamma=0.1, clf__kernel=sigmoid, clf__random_state=42; total time=   0.2s\n",
      "[CV 5/5] END clf__C=1000, clf__gamma=0.1, clf__kernel=sigmoid, clf__random_state=42; total time=   0.2s\n",
      "[CV 1/5] END clf__C=1000, clf__gamma=0.1, clf__kernel=rbf, clf__random_state=42; total time=   0.2s\n",
      "[CV 2/5] END clf__C=1000, clf__gamma=0.1, clf__kernel=rbf, clf__random_state=42; total time=   0.2s\n",
      "[CV 3/5] END clf__C=1000, clf__gamma=0.1, clf__kernel=rbf, clf__random_state=42; total time=   0.2s\n",
      "[CV 4/5] END clf__C=1000, clf__gamma=0.1, clf__kernel=rbf, clf__random_state=42; total time=   0.2s\n",
      "[CV 5/5] END clf__C=1000, clf__gamma=0.1, clf__kernel=rbf, clf__random_state=42; total time=   0.2s\n",
      "[CV 1/5] END clf__C=1000, clf__gamma=0.1, clf__kernel=poly, clf__random_state=42; total time=   0.3s\n",
      "[CV 2/5] END clf__C=1000, clf__gamma=0.1, clf__kernel=poly, clf__random_state=42; total time=   0.3s\n",
      "[CV 3/5] END clf__C=1000, clf__gamma=0.1, clf__kernel=poly, clf__random_state=42; total time=   0.3s\n",
      "[CV 4/5] END clf__C=1000, clf__gamma=0.1, clf__kernel=poly, clf__random_state=42; total time=   0.3s\n",
      "[CV 5/5] END clf__C=1000, clf__gamma=0.1, clf__kernel=poly, clf__random_state=42; total time=   0.3s\n",
      "[CV 1/5] END clf__C=1000000.0, clf__gamma=0.001, clf__kernel=sigmoid, clf__random_state=42; total time=   0.2s\n",
      "[CV 2/5] END clf__C=1000000.0, clf__gamma=0.001, clf__kernel=sigmoid, clf__random_state=42; total time=   0.2s\n",
      "[CV 3/5] END clf__C=1000000.0, clf__gamma=0.001, clf__kernel=sigmoid, clf__random_state=42; total time=   0.3s\n",
      "[CV 4/5] END clf__C=1000000.0, clf__gamma=0.001, clf__kernel=sigmoid, clf__random_state=42; total time=   0.2s\n",
      "[CV 5/5] END clf__C=1000000.0, clf__gamma=0.001, clf__kernel=sigmoid, clf__random_state=42; total time=   0.2s\n",
      "[CV 1/5] END clf__C=1000000.0, clf__gamma=0.001, clf__kernel=rbf, clf__random_state=42; total time=   0.2s\n",
      "[CV 2/5] END clf__C=1000000.0, clf__gamma=0.001, clf__kernel=rbf, clf__random_state=42; total time=   0.3s\n",
      "[CV 3/5] END clf__C=1000000.0, clf__gamma=0.001, clf__kernel=rbf, clf__random_state=42; total time=   0.2s\n",
      "[CV 4/5] END clf__C=1000000.0, clf__gamma=0.001, clf__kernel=rbf, clf__random_state=42; total time=   0.3s\n",
      "[CV 5/5] END clf__C=1000000.0, clf__gamma=0.001, clf__kernel=rbf, clf__random_state=42; total time=   0.3s\n",
      "[CV 1/5] END clf__C=1000000.0, clf__gamma=0.001, clf__kernel=poly, clf__random_state=42; total time=   0.2s\n",
      "[CV 2/5] END clf__C=1000000.0, clf__gamma=0.001, clf__kernel=poly, clf__random_state=42; total time=   0.3s\n",
      "[CV 3/5] END clf__C=1000000.0, clf__gamma=0.001, clf__kernel=poly, clf__random_state=42; total time=   0.3s\n",
      "[CV 4/5] END clf__C=1000000.0, clf__gamma=0.001, clf__kernel=poly, clf__random_state=42; total time=   0.2s\n",
      "[CV 5/5] END clf__C=1000000.0, clf__gamma=0.001, clf__kernel=poly, clf__random_state=42; total time=   0.2s\n",
      "[CV 1/5] END clf__C=1000000.0, clf__gamma=0.01, clf__kernel=sigmoid, clf__random_state=42; total time=   0.2s\n",
      "[CV 2/5] END clf__C=1000000.0, clf__gamma=0.01, clf__kernel=sigmoid, clf__random_state=42; total time=   0.2s\n",
      "[CV 3/5] END clf__C=1000000.0, clf__gamma=0.01, clf__kernel=sigmoid, clf__random_state=42; total time=   0.2s\n",
      "[CV 4/5] END clf__C=1000000.0, clf__gamma=0.01, clf__kernel=sigmoid, clf__random_state=42; total time=   0.2s\n",
      "[CV 5/5] END clf__C=1000000.0, clf__gamma=0.01, clf__kernel=sigmoid, clf__random_state=42; total time=   0.2s\n",
      "[CV 1/5] END clf__C=1000000.0, clf__gamma=0.01, clf__kernel=rbf, clf__random_state=42; total time=   0.2s\n",
      "[CV 2/5] END clf__C=1000000.0, clf__gamma=0.01, clf__kernel=rbf, clf__random_state=42; total time=   0.3s\n",
      "[CV 3/5] END clf__C=1000000.0, clf__gamma=0.01, clf__kernel=rbf, clf__random_state=42; total time=   0.3s\n",
      "[CV 4/5] END clf__C=1000000.0, clf__gamma=0.01, clf__kernel=rbf, clf__random_state=42; total time=   0.3s\n",
      "[CV 5/5] END clf__C=1000000.0, clf__gamma=0.01, clf__kernel=rbf, clf__random_state=42; total time=   0.2s\n",
      "[CV 1/5] END clf__C=1000000.0, clf__gamma=0.01, clf__kernel=poly, clf__random_state=42; total time=   0.3s\n",
      "[CV 2/5] END clf__C=1000000.0, clf__gamma=0.01, clf__kernel=poly, clf__random_state=42; total time=   0.3s\n",
      "[CV 3/5] END clf__C=1000000.0, clf__gamma=0.01, clf__kernel=poly, clf__random_state=42; total time=   0.3s\n",
      "[CV 4/5] END clf__C=1000000.0, clf__gamma=0.01, clf__kernel=poly, clf__random_state=42; total time=   0.3s\n",
      "[CV 5/5] END clf__C=1000000.0, clf__gamma=0.01, clf__kernel=poly, clf__random_state=42; total time=   0.2s\n",
      "[CV 1/5] END clf__C=1000000.0, clf__gamma=0.1, clf__kernel=sigmoid, clf__random_state=42; total time=   0.2s\n",
      "[CV 2/5] END clf__C=1000000.0, clf__gamma=0.1, clf__kernel=sigmoid, clf__random_state=42; total time=   0.2s\n",
      "[CV 3/5] END clf__C=1000000.0, clf__gamma=0.1, clf__kernel=sigmoid, clf__random_state=42; total time=   0.2s\n",
      "[CV 4/5] END clf__C=1000000.0, clf__gamma=0.1, clf__kernel=sigmoid, clf__random_state=42; total time=   0.2s\n",
      "[CV 5/5] END clf__C=1000000.0, clf__gamma=0.1, clf__kernel=sigmoid, clf__random_state=42; total time=   0.2s\n",
      "[CV 1/5] END clf__C=1000000.0, clf__gamma=0.1, clf__kernel=rbf, clf__random_state=42; total time=   0.2s\n",
      "[CV 2/5] END clf__C=1000000.0, clf__gamma=0.1, clf__kernel=rbf, clf__random_state=42; total time=   0.2s\n",
      "[CV 3/5] END clf__C=1000000.0, clf__gamma=0.1, clf__kernel=rbf, clf__random_state=42; total time=   0.2s\n",
      "[CV 4/5] END clf__C=1000000.0, clf__gamma=0.1, clf__kernel=rbf, clf__random_state=42; total time=   0.2s\n",
      "[CV 5/5] END clf__C=1000000.0, clf__gamma=0.1, clf__kernel=rbf, clf__random_state=42; total time=   0.2s\n",
      "[CV 1/5] END clf__C=1000000.0, clf__gamma=0.1, clf__kernel=poly, clf__random_state=42; total time=   0.2s\n",
      "[CV 2/5] END clf__C=1000000.0, clf__gamma=0.1, clf__kernel=poly, clf__random_state=42; total time=   0.3s\n",
      "[CV 3/5] END clf__C=1000000.0, clf__gamma=0.1, clf__kernel=poly, clf__random_state=42; total time=   0.2s\n",
      "[CV 4/5] END clf__C=1000000.0, clf__gamma=0.1, clf__kernel=poly, clf__random_state=42; total time=   0.2s\n",
      "[CV 5/5] END clf__C=1000000.0, clf__gamma=0.1, clf__kernel=poly, clf__random_state=42; total time=   0.2s\n",
      "[CV 1/5] END clf__C=10, clf__gamma=0.001, clf__kernel=sigmoid, clf__random_state=42; total time=   0.2s\n",
      "[CV 2/5] END clf__C=10, clf__gamma=0.001, clf__kernel=sigmoid, clf__random_state=42; total time=   0.2s\n",
      "[CV 3/5] END clf__C=10, clf__gamma=0.001, clf__kernel=sigmoid, clf__random_state=42; total time=   0.2s\n",
      "[CV 4/5] END clf__C=10, clf__gamma=0.001, clf__kernel=sigmoid, clf__random_state=42; total time=   0.2s\n",
      "[CV 5/5] END clf__C=10, clf__gamma=0.001, clf__kernel=sigmoid, clf__random_state=42; total time=   0.2s\n",
      "[CV 1/5] END clf__C=10, clf__gamma=0.001, clf__kernel=rbf, clf__random_state=42; total time=   0.2s\n",
      "[CV 2/5] END clf__C=10, clf__gamma=0.001, clf__kernel=rbf, clf__random_state=42; total time=   0.2s\n",
      "[CV 3/5] END clf__C=10, clf__gamma=0.001, clf__kernel=rbf, clf__random_state=42; total time=   0.2s\n",
      "[CV 4/5] END clf__C=10, clf__gamma=0.001, clf__kernel=rbf, clf__random_state=42; total time=   0.2s\n",
      "[CV 5/5] END clf__C=10, clf__gamma=0.001, clf__kernel=rbf, clf__random_state=42; total time=   0.2s\n",
      "[CV 1/5] END clf__C=10, clf__gamma=0.001, clf__kernel=poly, clf__random_state=42; total time=   0.2s\n",
      "[CV 2/5] END clf__C=10, clf__gamma=0.001, clf__kernel=poly, clf__random_state=42; total time=   0.2s\n",
      "[CV 3/5] END clf__C=10, clf__gamma=0.001, clf__kernel=poly, clf__random_state=42; total time=   0.2s\n",
      "[CV 4/5] END clf__C=10, clf__gamma=0.001, clf__kernel=poly, clf__random_state=42; total time=   0.2s\n",
      "[CV 5/5] END clf__C=10, clf__gamma=0.001, clf__kernel=poly, clf__random_state=42; total time=   0.2s\n",
      "[CV 1/5] END clf__C=10, clf__gamma=0.01, clf__kernel=sigmoid, clf__random_state=42; total time=   0.2s\n",
      "[CV 2/5] END clf__C=10, clf__gamma=0.01, clf__kernel=sigmoid, clf__random_state=42; total time=   0.2s\n",
      "[CV 3/5] END clf__C=10, clf__gamma=0.01, clf__kernel=sigmoid, clf__random_state=42; total time=   0.2s\n",
      "[CV 4/5] END clf__C=10, clf__gamma=0.01, clf__kernel=sigmoid, clf__random_state=42; total time=   0.2s\n",
      "[CV 5/5] END clf__C=10, clf__gamma=0.01, clf__kernel=sigmoid, clf__random_state=42; total time=   0.2s\n",
      "[CV 1/5] END clf__C=10, clf__gamma=0.01, clf__kernel=rbf, clf__random_state=42; total time=   0.2s\n",
      "[CV 2/5] END clf__C=10, clf__gamma=0.01, clf__kernel=rbf, clf__random_state=42; total time=   0.2s\n",
      "[CV 3/5] END clf__C=10, clf__gamma=0.01, clf__kernel=rbf, clf__random_state=42; total time=   0.2s\n",
      "[CV 4/5] END clf__C=10, clf__gamma=0.01, clf__kernel=rbf, clf__random_state=42; total time=   0.2s\n",
      "[CV 5/5] END clf__C=10, clf__gamma=0.01, clf__kernel=rbf, clf__random_state=42; total time=   0.2s\n",
      "[CV 1/5] END clf__C=10, clf__gamma=0.01, clf__kernel=poly, clf__random_state=42; total time=   0.2s\n",
      "[CV 2/5] END clf__C=10, clf__gamma=0.01, clf__kernel=poly, clf__random_state=42; total time=   0.2s\n",
      "[CV 3/5] END clf__C=10, clf__gamma=0.01, clf__kernel=poly, clf__random_state=42; total time=   0.2s\n",
      "[CV 4/5] END clf__C=10, clf__gamma=0.01, clf__kernel=poly, clf__random_state=42; total time=   0.2s\n",
      "[CV 5/5] END clf__C=10, clf__gamma=0.01, clf__kernel=poly, clf__random_state=42; total time=   0.2s\n",
      "[CV 1/5] END clf__C=10, clf__gamma=0.1, clf__kernel=sigmoid, clf__random_state=42; total time=   0.2s\n",
      "[CV 2/5] END clf__C=10, clf__gamma=0.1, clf__kernel=sigmoid, clf__random_state=42; total time=   0.2s\n",
      "[CV 3/5] END clf__C=10, clf__gamma=0.1, clf__kernel=sigmoid, clf__random_state=42; total time=   0.2s\n",
      "[CV 4/5] END clf__C=10, clf__gamma=0.1, clf__kernel=sigmoid, clf__random_state=42; total time=   0.2s\n",
      "[CV 5/5] END clf__C=10, clf__gamma=0.1, clf__kernel=sigmoid, clf__random_state=42; total time=   0.2s\n",
      "[CV 1/5] END clf__C=10, clf__gamma=0.1, clf__kernel=rbf, clf__random_state=42; total time=   0.2s\n",
      "[CV 2/5] END clf__C=10, clf__gamma=0.1, clf__kernel=rbf, clf__random_state=42; total time=   0.2s\n",
      "[CV 3/5] END clf__C=10, clf__gamma=0.1, clf__kernel=rbf, clf__random_state=42; total time=   0.2s\n",
      "[CV 4/5] END clf__C=10, clf__gamma=0.1, clf__kernel=rbf, clf__random_state=42; total time=   0.2s\n",
      "[CV 5/5] END clf__C=10, clf__gamma=0.1, clf__kernel=rbf, clf__random_state=42; total time=   0.2s\n",
      "[CV 1/5] END clf__C=10, clf__gamma=0.1, clf__kernel=poly, clf__random_state=42; total time=   0.3s\n",
      "[CV 2/5] END clf__C=10, clf__gamma=0.1, clf__kernel=poly, clf__random_state=42; total time=   0.2s\n",
      "[CV 3/5] END clf__C=10, clf__gamma=0.1, clf__kernel=poly, clf__random_state=42; total time=   0.2s\n",
      "[CV 4/5] END clf__C=10, clf__gamma=0.1, clf__kernel=poly, clf__random_state=42; total time=   0.2s\n",
      "[CV 5/5] END clf__C=10, clf__gamma=0.1, clf__kernel=poly, clf__random_state=42; total time=   0.2s\n",
      "{'clf__C': 1000, 'clf__gamma': 0.001, 'clf__kernel': 'sigmoid', 'clf__random_state': 42}\n",
      "Voici les résultats obtenus pour les métriques : \n",
      "              precision    recall  f1-score   support\n",
      "\n",
      "           0       0.85      0.74      0.79       202\n",
      "           1       0.85      0.92      0.89       332\n",
      "\n",
      "    accuracy                           0.85       534\n",
      "   macro avg       0.85      0.83      0.84       534\n",
      "weighted avg       0.85      0.85      0.85       534\n",
      "\n",
      "AUC :  0.930320291065251\n"
     ]
    }
   ],
   "source": [
    "\"\"\"Amélioration du modèle par recherche des paramètres optimales du modèle svm en utilisant une Gridsearch pour\n",
    "tester différentes combinaisons. Après plusieurs tests, on obtient ici le meilleur résultat que j'ai pu obtenir.\n",
    "Et le constat est le suivant : l'entraînement du modèle est plus efficace que l'usage d'une GridSearch. Celle-ci \n",
    "n'améliore pas les performances de manière significative par rapport à l'entraînement.\"\"\"\n",
    "\n",
    "\n",
    "param_svc={\n",
    "    \"clf__kernel\": [\"sigmoid\",\"rbf\",\"poly\"],\n",
    "    \"clf__C\" : [1000,10e5,10],\n",
    "    \"clf__gamma\" : [0.001,10e-3,0.1],\n",
    "    \"clf__random_state\":[42]}\n",
    "clf=GridSearchCV(modele,param_svc,n_jobs=1,verbose=3)\n",
    "clf.fit(X_train,y_train)\n",
    "param_optimales=clf.best_params_\n",
    "print(param_optimales)\n",
    "\n",
    "print(\"Voici les résultats obtenus pour les métriques : \")\n",
    "y_pred=modele.predict(X_test)\n",
    "print(classification_report(y_test, y_pred,zero_division=1))\n",
    "y_pred2=clf.decision_function(X_test)\n",
    "roc_score=roc_auc_score(y_test,y_pred2)\n",
    "print(\"AUC : \",roc_score)"
   ]
  },
  {
   "cell_type": "code",
   "execution_count": 8,
   "metadata": {},
   "outputs": [
    {
     "output_type": "stream",
     "name": "stdout",
     "text": [
      "Pipeline(steps=[('tfidf', TfidfVectorizer()),\n                ('clf', SVC(C=1000, gamma=0.001))])\n"
     ]
    }
   ],
   "source": [
    "print(modele)"
   ]
  },
  {
   "cell_type": "code",
   "execution_count": 9,
   "metadata": {},
   "outputs": [
    {
     "output_type": "stream",
     "name": "stdout",
     "text": [
      "              precision    recall  f1-score   support\n\n           0       0.84      0.75      0.80       202\n           1       0.86      0.92      0.89       332\n\n    accuracy                           0.85       534\n   macro avg       0.85      0.83      0.84       534\nweighted avg       0.85      0.85      0.85       534\n\nAUC :  0.930320291065251\n"
     ]
    }
   ],
   "source": [
    "\"\"\"Création d'une nouvelle pipeline reprenant la pipeline précédente avec des paramètres optimisées et\n",
    "vérification des résultats obtenus. Ils concordent avec ceux attendus.\"\"\"\n",
    "\n",
    "\n",
    "\n",
    "modele2 = Pipeline(steps=[('tfidf', TfidfVectorizer()),\n",
    "                ('clf', SVC(C=1000, kernel=\"sigmoid\",gamma=0.001,random_state=42))])\n",
    "modele2.fit(X_train,y_train)\n",
    "y_pred=modele2.predict(X_test)\n",
    "print(classification_report(y_test, y_pred,zero_division=1))\n",
    "y_pred2=modele2.decision_function(X_test)\n",
    "roc_score=roc_auc_score(y_test,y_pred2)\n",
    "print(\"AUC : \",roc_score)"
   ]
  },
  {
   "cell_type": "code",
   "execution_count": 10,
   "metadata": {},
   "outputs": [
    {
     "output_type": "execute_result",
     "data": {
      "text/plain": [
       "['pipeline_optimale.joblib']"
      ]
     },
     "metadata": {},
     "execution_count": 10
    }
   ],
   "source": [
    "# sauvegarde de la nouvelle pipeline dans un nouveau fichier joblib\n",
    "\n",
    "dump(modele2, 'pipeline_optimale.joblib') "
   ]
  },
  {
   "cell_type": "code",
   "execution_count": null,
   "metadata": {},
   "outputs": [],
   "source": []
  }
 ],
 "metadata": {
  "kernelspec": {
   "display_name": "Python 3",
   "language": "python",
   "name": "python3"
  },
  "language_info": {
   "codemirror_mode": {
    "name": "ipython",
    "version": 3
   },
   "file_extension": ".py",
   "mimetype": "text/x-python",
   "name": "python",
   "nbconvert_exporter": "python",
   "pygments_lexer": "ipython3",
   "version": "3.7.6-final"
  }
 },
 "nbformat": 4,
 "nbformat_minor": 4
}